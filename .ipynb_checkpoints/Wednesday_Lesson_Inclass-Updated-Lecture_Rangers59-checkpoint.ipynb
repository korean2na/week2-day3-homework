{
 "cells": [
  {
   "cell_type": "markdown",
   "metadata": {},
   "source": [
    "# Data Collections 2 (Dictionaries, Sets) and Importing Modules"
   ]
  },
  {
   "cell_type": "markdown",
   "metadata": {},
   "source": [
    "## Tasks Today:\n",
    "\n",
    "1) Dictionary <br>\n",
    " &nbsp;&nbsp;&nbsp;&nbsp; a) Declaring (key, value) <br>\n",
    " &nbsp;&nbsp;&nbsp;&nbsp; b) Accessing Values <br>\n",
    " &nbsp;&nbsp;&nbsp;&nbsp; ------ Exercise #1 - Print the eye color of each person in a double nested dict <br>\n",
    " &nbsp;&nbsp;&nbsp;&nbsp; c) Adding New Pairs <br>\n",
    " &nbsp;&nbsp;&nbsp;&nbsp; d) Modifying Values <br>\n",
    " &nbsp;&nbsp;&nbsp;&nbsp; e) Removing Key, Value Pairs <br>\n",
    " &nbsp;&nbsp;&nbsp;&nbsp; f) Looping a Dictionary <br>\n",
    " &nbsp;&nbsp;&nbsp;&nbsp; g) Looping Only Keys <br>\n",
    " &nbsp;&nbsp;&nbsp;&nbsp; h) Looping Only Values <br>\n",
    " &nbsp;&nbsp;&nbsp;&nbsp; ------ Exercise #2 - Create a Function that Prints All Key Value Pairs within a print .format()  <br>\n",
    " &nbsp;&nbsp;&nbsp;&nbsp; i) sorted() <br>\n",
    " &nbsp;&nbsp;&nbsp;&nbsp; j) Lists with Dictionaries <br>\n",
    " &nbsp;&nbsp;&nbsp;&nbsp; k) Dictionaries with Lists <br>\n",
    " &nbsp;&nbsp;&nbsp;&nbsp; l) Dictionaries with Dictionaries <br>\n",
    " &nbsp;&nbsp;&nbsp;&nbsp; ------ Exercise #3 - Write a Function that asks someone's name and address, and then stores that into a dictionary, which prints all names and addresses after they're done putting information in...  <br>\n",
    "2) Dictionaries vs. Lists (over time)<br>\n",
    "3) Set <br>\n",
    " &nbsp;&nbsp;&nbsp;&nbsp; a) Declaring <br>\n",
    " &nbsp;&nbsp;&nbsp;&nbsp; b) .add() <br>\n",
    " &nbsp;&nbsp;&nbsp;&nbsp; c) .remove() <br>\n",
    " &nbsp;&nbsp;&nbsp;&nbsp; d) .union() <br>\n",
    " &nbsp;&nbsp;&nbsp;&nbsp; e) .intersection() <br>\n",
    " &nbsp;&nbsp;&nbsp;&nbsp; f) .difference() <br>\n",
    " &nbsp;&nbsp;&nbsp;&nbsp; g) Frozen Set <br>\n",
    "4) Modules <br>\n",
    " &nbsp;&nbsp;&nbsp;&nbsp; a) Importing Entire Modules <br>\n",
    " &nbsp;&nbsp;&nbsp;&nbsp; b) Importing Methods Only <br>\n",
    " &nbsp;&nbsp;&nbsp;&nbsp; c) Using the 'as' Keyword <br>\n",
    " &nbsp;&nbsp;&nbsp;&nbsp; d) Creating a Module <br>\n",
    "5) Exercises <br>\n",
    " &nbsp;&nbsp;&nbsp;&nbsp; a) Build a Shopping Cart <br>\n",
    " &nbsp;&nbsp;&nbsp;&nbsp; b) Create Your Own Module <br>"
   ]
  },
  {
   "cell_type": "markdown",
   "metadata": {},
   "source": [
    "## Dictionary <br>\n",
    "<p>A collection of data with 'key:value' pairs. Dictionaries are ordered as of Python 3.6</p>"
   ]
  },
  {
   "cell_type": "markdown",
   "metadata": {},
   "source": [
    "##### Declaring (key, value)"
   ]
  },
  {
   "cell_type": "code",
   "execution_count": 1,
   "metadata": {},
   "outputs": [
    {
     "name": "stdout",
     "output_type": "stream",
     "text": [
      "{'name': 'Jake Take', 'age': 34, 'instruments': ['guitar', 'bass', 'drums']}\n"
     ]
    }
   ],
   "source": [
    "rockstar = {\n",
    "    'name': 'Jake Take',\n",
    "    'age': 34,\n",
    "    'instruments': ['guitar', 'bass', 'drums']\n",
    "}\n",
    "print(rockstar)\n",
    "print(type(rockstar))"
   ]
  },
  {
   "cell_type": "markdown",
   "metadata": {},
   "source": [
    "##### Accessing Values"
   ]
  },
  {
   "cell_type": "code",
   "execution_count": 3,
   "metadata": {},
   "outputs": [
    {
     "data": {
      "text/plain": [
       "34"
      ]
     },
     "execution_count": 3,
     "metadata": {},
     "output_type": "execute_result"
    }
   ],
   "source": [
    "rockstar['age']"
   ]
  },
  {
   "cell_type": "code",
   "execution_count": 4,
   "metadata": {},
   "outputs": [
    {
     "data": {
      "text/plain": [
       "'Jake Take'"
      ]
     },
     "execution_count": 4,
     "metadata": {},
     "output_type": "execute_result"
    }
   ],
   "source": [
    "rockstar['name']"
   ]
  },
  {
   "cell_type": "code",
   "execution_count": 5,
   "metadata": {},
   "outputs": [
    {
     "data": {
      "text/plain": [
       "'drums'"
      ]
     },
     "execution_count": 5,
     "metadata": {},
     "output_type": "execute_result"
    }
   ],
   "source": [
    "rockstar['instruments'][2]"
   ]
  },
  {
   "cell_type": "code",
   "execution_count": 9,
   "metadata": {},
   "outputs": [],
   "source": [
    "rockstars = {\n",
    "    '1': {\n",
    "    'name': 'Jake Take',\n",
    "    'age': 34,\n",
    "    'instruments': ['guitar', 'bass', 'drums']\n",
    "    },\n",
    "    '2': {\n",
    "    'name': 'Hairy Jerry',\n",
    "    'age': 37,\n",
    "    'instruments': ['guitar']\n",
    "    },\n",
    "}"
   ]
  },
  {
   "cell_type": "code",
   "execution_count": 10,
   "metadata": {},
   "outputs": [
    {
     "name": "stdout",
     "output_type": "stream",
     "text": [
      "['guitar']\n"
     ]
    }
   ],
   "source": [
    "print(rockstars['2']['instruments'])"
   ]
  },
  {
   "cell_type": "markdown",
   "metadata": {},
   "source": [
    "## In-Class Exercise #1 - Print a formatted statement from the dictionary below <br>\n",
    "<p>The output should be '2018 Chevrolet Silverado'</p>"
   ]
  },
  {
   "cell_type": "code",
   "execution_count": 11,
   "metadata": {},
   "outputs": [
    {
     "name": "stdout",
     "output_type": "stream",
     "text": [
      "Jimbo drives a Chevrolet Silverado made in 2018\n"
     ]
    }
   ],
   "source": [
    "# use the dict below\n",
    "truck = {\n",
    "    'year': 2018,\n",
    "    'make': 'Chevrolet',\n",
    "    'model': 'Silverado'\n",
    "}\n",
    "\n",
    "print(f\"Jimbo drives a {truck['make']} {truck['model']} made in {truck['year']}\")"
   ]
  },
  {
   "cell_type": "markdown",
   "metadata": {},
   "source": [
    "##### Adding New Pairs"
   ]
  },
  {
   "cell_type": "code",
   "execution_count": 16,
   "metadata": {},
   "outputs": [
    {
     "name": "stdout",
     "output_type": "stream",
     "text": [
      "{'name': 'Jake Take', 'age': 34, 'instruments': ['guitar', 'bass', 'drums'], 'favorite_song': 'Happy Birthday'}\n"
     ]
    }
   ],
   "source": [
    "rockstars = {\n",
    "    'name': 'Jake Take',\n",
    "    'age': 34,\n",
    "    'instruments': ['guitar', 'bass', 'drums']\n",
    "}\n",
    "\n",
    "# Add their favorite song\n",
    "rockstar['favorite_song'] = 'Happy Birthday'\n",
    "print(rockstar)"
   ]
  },
  {
   "cell_type": "markdown",
   "metadata": {},
   "source": [
    "##### Modifying Values"
   ]
  },
  {
   "cell_type": "code",
   "execution_count": 17,
   "metadata": {},
   "outputs": [
    {
     "name": "stdout",
     "output_type": "stream",
     "text": [
      "{'name': 'Jake Take', 'age': 35, 'instruments': ['guitar', 'bass', 'drums'], 'favorite_song': 'Happy Birthday'}\n"
     ]
    }
   ],
   "source": [
    "rockstar['age'] = 35"
   ]
  },
  {
   "cell_type": "code",
   "execution_count": 19,
   "metadata": {},
   "outputs": [
    {
     "name": "stdout",
     "output_type": "stream",
     "text": [
      "{'name': 'Jake Take', 'age': 36, 'instruments': ['guitar', 'bass', 'drums'], 'favorite_song': 'Happy Birthday'}\n"
     ]
    }
   ],
   "source": [
    "rockstar['age'] = rockstar['age'] + 1\n",
    "print(rockstar)"
   ]
  },
  {
   "cell_type": "code",
   "execution_count": 21,
   "metadata": {},
   "outputs": [
    {
     "name": "stdout",
     "output_type": "stream",
     "text": [
      "{'jake': {'name': 'Jake Take', 'age': 34, 'instruments': ['guitar', 'bass', 'drums']}, 'hairy': {'name': 'Hairy Jerry', 'age': 37, 'instruments': ['guitar', 'cello']}}\n"
     ]
    }
   ],
   "source": [
    "rockstars = {\n",
    "    'jake': {\n",
    "    'name': 'Jake Take',\n",
    "    'age': 34,\n",
    "    'instruments': ['guitar', 'bass', 'drums']\n",
    "    },\n",
    "    'hairy': {\n",
    "    'name': 'Hairy Jerry',\n",
    "    'age': 37,\n",
    "    'instruments': ['guitar']\n",
    "    },\n",
    "}\n",
    "\n",
    "# Add cello to Jerry's instruments list\n",
    "\n",
    "rockstars['hairy']['instruments'].append('cello')\n",
    "print(rockstars)"
   ]
  },
  {
   "cell_type": "markdown",
   "metadata": {},
   "source": [
    "##### Removing Key, Value Pairs"
   ]
  },
  {
   "cell_type": "code",
   "execution_count": 23,
   "metadata": {},
   "outputs": [
    {
     "name": "stdout",
     "output_type": "stream",
     "text": [
      "{'hairy': {'name': 'Hairy Jerry', 'age': 37, 'instruments': ['guitar']}}\n"
     ]
    }
   ],
   "source": [
    "rockstars = {\n",
    "    'jake': {\n",
    "    'name': 'Jake Take',\n",
    "    'age': 34,\n",
    "    'instruments': ['guitar', 'bass', 'drums']\n",
    "    },\n",
    "    'hairy': {\n",
    "    'name': 'Hairy Jerry',\n",
    "    'age': 37,\n",
    "    'instruments': ['guitar']\n",
    "    },\n",
    "}\n",
    "\n",
    "del rockstars['jake']\n",
    "print(rockstars)"
   ]
  },
  {
   "cell_type": "code",
   "execution_count": 25,
   "metadata": {},
   "outputs": [
    {
     "data": {
      "text/plain": [
       "37"
      ]
     },
     "execution_count": 25,
     "metadata": {},
     "output_type": "execute_result"
    }
   ],
   "source": [
    "rockstars = {\n",
    "    'jake': {\n",
    "    'name': 'Jake Take',\n",
    "    'age': 34,\n",
    "    'instruments': ['guitar', 'bass', 'drums']\n",
    "    },\n",
    "    'hairy': {\n",
    "    'name': 'Hairy Jerry',\n",
    "    'age': 37,\n",
    "    'instruments': ['guitar']\n",
    "    },\n",
    "}\n",
    "\n",
    "rockstars['hairy'].pop('age')"
   ]
  },
  {
   "cell_type": "markdown",
   "metadata": {},
   "source": [
    "##### Looping a Dictionary"
   ]
  },
  {
   "cell_type": "code",
   "execution_count": 37,
   "metadata": {},
   "outputs": [
    {
     "name": "stdout",
     "output_type": "stream",
     "text": [
      "Year 2018\n",
      "Make Chevrolet\n",
      "Model Silverado\n"
     ]
    }
   ],
   "source": [
    "# .items()\n",
    "# a, b, c = 1, 2, 3\n",
    "# print(a)\n",
    "# print(b)\n",
    "# print(c)\n",
    "\n",
    "truck = {\n",
    "    'year': 2018,\n",
    "    'make': 'Chevrolet',\n",
    "    'model': 'Silverado'\n",
    "}\n",
    "\n",
    "for k, v in truck.items():\n",
    "    print(k.title(), str(v).title())"
   ]
  },
  {
   "cell_type": "code",
   "execution_count": 38,
   "metadata": {},
   "outputs": [
    {
     "name": "stdout",
     "output_type": "stream",
     "text": [
      "('year', 2018)\n",
      "('make', 'Chevrolet')\n",
      "('model', 'Silverado')\n"
     ]
    }
   ],
   "source": [
    "for item in truck.items():\n",
    "    print(item)"
   ]
  },
  {
   "cell_type": "code",
   "execution_count": 40,
   "metadata": {},
   "outputs": [
    {
     "name": "stdout",
     "output_type": "stream",
     "text": [
      "year 2018\n"
     ]
    }
   ],
   "source": [
    "k, v = ['year', 2018]\n",
    "\n",
    "print(k, v)"
   ]
  },
  {
   "cell_type": "markdown",
   "metadata": {},
   "source": [
    "##### Looping Only Keys"
   ]
  },
  {
   "cell_type": "code",
   "execution_count": 41,
   "metadata": {},
   "outputs": [
    {
     "name": "stdout",
     "output_type": "stream",
     "text": [
      "year\n",
      "make\n",
      "model\n"
     ]
    }
   ],
   "source": [
    "# .keys()\n",
    "\n",
    "truck.keys()\n",
    "\n",
    "for k in truck.keys():\n",
    "    print(k)"
   ]
  },
  {
   "cell_type": "markdown",
   "metadata": {},
   "source": [
    "##### Looping Only Values"
   ]
  },
  {
   "cell_type": "code",
   "execution_count": 42,
   "metadata": {},
   "outputs": [
    {
     "name": "stdout",
     "output_type": "stream",
     "text": [
      "2018\n",
      "Chevrolet\n",
      "Silverado\n"
     ]
    }
   ],
   "source": [
    "# .values()\n",
    "\n",
    "truck.values()\n",
    "\n",
    "for v in truck.values():\n",
    "    print(v)"
   ]
  },
  {
   "cell_type": "markdown",
   "metadata": {},
   "source": [
    "## In-Class Exercise #2 - Create a Function that Prints All Key Value Pairs within a print .format() <br>\n",
    "<p><b>Output should be:</b><br>\n",
    "Max has blue eyes<br>\n",
    "Lilly has brown eyes<br>\n",
    "Barney has blue eyes<br>\n",
    "etc.\n",
    "</p>"
   ]
  },
  {
   "cell_type": "code",
   "execution_count": 50,
   "metadata": {},
   "outputs": [
    {
     "name": "stdout",
     "output_type": "stream",
     "text": [
      "Max has blue eyes\n",
      "Lilly has brown eyes\n",
      "Barney has blue eyes\n",
      "Larney has brown eyes\n",
      "Ted has purple eyes\n"
     ]
    }
   ],
   "source": [
    "# use the dict below\n",
    "\n",
    "# people = {\n",
    "#     'Max': 'blue',\n",
    "#     'Lilly': 'brown',\n",
    "#     'Barney': 'blue',\n",
    "#     'Larney': 'brown',\n",
    "#     'Ted': 'purple'\n",
    "# }\n",
    "\n",
    "people = {\n",
    "    'max': 'blue',\n",
    "    'lilly': 'brown',\n",
    "    'barney': 'blue',\n",
    "    'larney': 'brown',\n",
    "    'ted': 'purple'\n",
    "}\n",
    "\n",
    "for k, v in people.items():\n",
    "    print(f\"{k.title()} has {v} eyes\")"
   ]
  },
  {
   "cell_type": "code",
   "execution_count": 54,
   "metadata": {},
   "outputs": [
    {
     "data": {
      "text/plain": [
       "'vanilla'"
      ]
     },
     "execution_count": 54,
     "metadata": {},
     "output_type": "execute_result"
    }
   ],
   "source": [
    "people = {\n",
    "    'max': 'blue',\n",
    "    'lilly': 'brown',\n",
    "    'barney': 'blue',\n",
    "    'larney': 'brown',\n",
    "    'ted': {\n",
    "        'eyes': 'purple',\n",
    "        'age': 20,\n",
    "        'favorite flavor': {\n",
    "            '1st': 'chocolate',\n",
    "            '2nd': 'vanilla',\n",
    "            '3rd': 'strawberry'\n",
    "        }\n",
    "    }\n",
    "}\n",
    "\n",
    "people['ted']['favorite flavor']['2nd']"
   ]
  },
  {
   "cell_type": "markdown",
   "metadata": {},
   "source": [
    "##### sorted()"
   ]
  },
  {
   "cell_type": "code",
   "execution_count": 58,
   "metadata": {},
   "outputs": [
    {
     "data": {
      "text/plain": [
       "['Barney', 'Larney', 'Lilly', 'Max', 'Ted']"
      ]
     },
     "execution_count": 58,
     "metadata": {},
     "output_type": "execute_result"
    }
   ],
   "source": [
    "# sorts variables in order\n",
    "# sorted(dict.values()) or dict.keys() or dict.items()\n",
    "\n",
    "people = {\n",
    "    'Max': 'blue',\n",
    "    'Lilly': 'brown',\n",
    "    'Barney': 'blue',\n",
    "    'Larney': 'brown',\n",
    "    'Ted': 'purple'\n",
    "}\n",
    "\n",
    "sorted(people.keys())"
   ]
  },
  {
   "cell_type": "code",
   "execution_count": 59,
   "metadata": {},
   "outputs": [
    {
     "data": {
      "text/plain": [
       "[('Barney', 'blue'),\n",
       " ('Larney', 'brown'),\n",
       " ('Lilly', 'brown'),\n",
       " ('Max', 'blue'),\n",
       " ('Ted', 'purple')]"
      ]
     },
     "execution_count": 59,
     "metadata": {},
     "output_type": "execute_result"
    }
   ],
   "source": [
    "sorted(people.items())"
   ]
  },
  {
   "cell_type": "code",
   "execution_count": 60,
   "metadata": {},
   "outputs": [
    {
     "data": {
      "text/plain": [
       "['blue', 'blue', 'brown', 'brown', 'purple']"
      ]
     },
     "execution_count": 60,
     "metadata": {},
     "output_type": "execute_result"
    }
   ],
   "source": [
    "sorted(people.values())"
   ]
  },
  {
   "cell_type": "markdown",
   "metadata": {},
   "source": [
    "##### List with Dictionaries"
   ]
  },
  {
   "cell_type": "code",
   "execution_count": 2,
   "metadata": {},
   "outputs": [
    {
     "data": {
      "text/plain": [
       "'Jake Take'"
      ]
     },
     "execution_count": 2,
     "metadata": {},
     "output_type": "execute_result"
    }
   ],
   "source": [
    "rockstars = [\n",
    "    {\n",
    "        'name': 'Jake Take',\n",
    "        'age': 34,\n",
    "        'instruments': ['guitar', 'bass', 'drums']\n",
    "    },\n",
    "    {\n",
    "        'name': 'Hairy Jerry',\n",
    "        'age': 37,\n",
    "        'instruments': ['guitar']\n",
    "    }\n",
    "]\n",
    "\n",
    "rockstars[0]['name']"
   ]
  },
  {
   "cell_type": "markdown",
   "metadata": {},
   "source": [
    "##### Dictionaries with Lists"
   ]
  },
  {
   "cell_type": "code",
   "execution_count": 3,
   "metadata": {},
   "outputs": [
    {
     "name": "stdout",
     "output_type": "stream",
     "text": [
      "Jake Take\n",
      "Hairy Jerry\n"
     ]
    }
   ],
   "source": [
    "# be careful when using numbers as keys in dictionaries, don't confuse them with indexes\n",
    "\n",
    "for rockstar in rockstars:\n",
    "    print(rockstar['name'])"
   ]
  },
  {
   "cell_type": "markdown",
   "metadata": {},
   "source": [
    "##### Dictionaries with Dictionaries"
   ]
  },
  {
   "cell_type": "code",
   "execution_count": null,
   "metadata": {},
   "outputs": [],
   "source": [
    "# to get values, must traverse through keys\n",
    "\n"
   ]
  },
  {
   "cell_type": "markdown",
   "metadata": {},
   "source": [
    "## Dictionaries vs. Lists (over time) Example of RUNTIME\n",
    "### When inputting values in a Dictionary vs List"
   ]
  },
  {
   "cell_type": "code",
   "execution_count": 1,
   "metadata": {},
   "outputs": [],
   "source": [
    "import time\n",
    "\n",
    "\n",
    "# generate fake dictionary\n",
    "d = {}\n",
    "\n",
    "for i in range(10000000):\n",
    "    d[i] = 'value'\n",
    "    \n",
    "\n",
    "# generate fake list\n",
    "big_list = [x for x in range(10000000)]"
   ]
  },
  {
   "cell_type": "code",
   "execution_count": 2,
   "metadata": {},
   "outputs": [
    {
     "name": "stdout",
     "output_type": "stream",
     "text": [
      "value\n",
      "Elapsed time for dictionary: 0.0\n",
      "999\n",
      "Elapsed time for list: 0.5090150833129883\n"
     ]
    }
   ],
   "source": [
    "# tracking time for dictionary\n",
    "start_time = time.time()\n",
    "\n",
    "print(d[9999999])\n",
    "\n",
    "end_time = time.time() - start_time\n",
    "\n",
    "print('Elapsed time for dictionary: {}'.format(end_time))\n",
    "\n",
    "\n",
    "# tracking time for list\n",
    "start_time = time.time()\n",
    "\n",
    "for i in range(len(big_list)):\n",
    "    if i == 9999999:\n",
    "        print(i)\n",
    "\n",
    "end_time = time.time() - start_time\n",
    "\n",
    "print('Elapsed time for list: {}'.format(end_time))"
   ]
  },
  {
   "cell_type": "markdown",
   "metadata": {},
   "source": [
    "## Exercise #3 - Write a Function that asks someone's name and address, and then stores that into a dictionary, and continues to do so until they choose to 'quit'. Once they quit, the program should print all names and addresses. <br>\n",
    "<p>\n",
    "<b>Proper steps:</b><br>\n",
    "step 1: write a function that takes in information and stores it in a dictionary<br>\n",
    "step 2: define an empty dictionary to work with<br>\n",
    "step 3: create our loop, which asks the user for information until they quit<br>\n",
    "step 4: ask for the information, and store it into variables<br>\n",
    "step 5: check if the user types quit<br>\n",
    "step 5a: print out all information<br>\n",
    "step 5b: break out of the loop<br>\n",
    "step 6: if they didn't quit, add the information to the dictionary<br>\n",
    "step 7: invoke the function by calling it\n",
    "</p>"
   ]
  },
  {
   "cell_type": "code",
   "execution_count": 1,
   "metadata": {},
   "outputs": [
    {
     "name": "stdout",
     "output_type": "stream",
     "text": [
      "Person's Name: Lucas\n",
      "Person's Addres: 123 Test\n",
      "Would you like to quit? (Y/N)YeS\n",
      "{'Lucas': '123 Test'}\n"
     ]
    }
   ],
   "source": [
    "from IPython.display import clear_output\n",
    "\n",
    "# Step 2\n",
    "addressBook = {}\n",
    "\n",
    "# Step 1\n",
    "def storeUserInfo(k, v):\n",
    "    addressBook[k] = v\n",
    "    \n",
    "# Step 3\n",
    "while True:\n",
    "    # Step 4\n",
    "    name = input(\"Person's Name: \")\n",
    "    address = input(\"Person's Address: \")\n",
    "    \n",
    "    # Step 6\n",
    "    storeUserInfo(name, address)\n",
    "    \n",
    "    # Step 5\n",
    "    quit = input(\"Would you like to quit? (Y/N)\").lower()\n",
    "    \n",
    "    if quit == 'y' or quit == 'yes':\n",
    "        # Step 5a\n",
    "        print(addressBook)\n",
    "        # Step 5b\n",
    "        break"
   ]
  },
  {
   "cell_type": "code",
   "execution_count": null,
   "metadata": {},
   "outputs": [],
   "source": [
    "addressBook = [\n",
    "    {\n",
    "        'name': 'Dylan',\n",
    "        'address': '555 Main St',\n",
    "        'city': 'Chicago'\n",
    "    },\n",
    "    {\n",
    "        'name': 'Dylan',\n",
    "        'address': '555 Main St',\n",
    "        'city': 'Chicago'\n",
    "    }\n",
    "]\n",
    "\n",
    "\n",
    "addressBook = {\n",
    "    'Dylan': '555 Main St',\n",
    "    'Lucas': '123 Main St',\n",
    "}\n",
    "\n"
   ]
  },
  {
   "cell_type": "code",
   "execution_count": 5,
   "metadata": {},
   "outputs": [
    {
     "name": "stdout",
     "output_type": "stream",
     "text": [
      "Person's Name: lucas\n",
      "Person's Address: 123\n",
      "Person's City: 123\n",
      "Would you like to quit? (Y/N)n\n",
      "Person's Name: lucas\n",
      "Person's Address: 123\n",
      "Person's City: 123\n",
      "Would you like to quit? (Y/N)n\n",
      "Person's Name: lucas\n",
      "Person's Address: 123\n",
      "Person's City: 123\n",
      "Would you like to quit? (Y/N)yes\n",
      "[{'name': 'lucas', 'address': '123', 'city': '123'}, {'name': 'lucas', 'address': '123', 'city': '123'}, {'name': 'lucas', 'address': '123', 'city': '123'}]\n"
     ]
    }
   ],
   "source": [
    "# addressBook = []\n",
    "# personInfo = {}\n",
    "\n",
    "# def storeDict (n, a, c):\n",
    "#     personInfo['name'] = n\n",
    "#     personInfo['address'] = a\n",
    "#     personInfo['city'] = c\n",
    "\n",
    "# while True:\n",
    "#     name = input(\"Person's Name: \")\n",
    "#     address = input(\"Person's Address: \")\n",
    "#     city = input(\"Person's City: \")\n",
    "    \n",
    "#     storeDict(name, address, city)\n",
    "#     addressBook.append(personInfo)\n",
    "    \n",
    "#     quit = input(\"Would you like to quit? (Y/N)\").lower()\n",
    "    \n",
    "#     if quit == 'y' or quit == 'yes':\n",
    "#         print(addressBook)\n",
    "#         break\n",
    "\n",
    "addressBook = []\n",
    "personInfo = {}\n",
    "\n",
    "def storeDict (n, a, c):\n",
    "    personInfo['name'] = n\n",
    "    personInfo['address'] = a\n",
    "    personInfo['city'] = c\n",
    "\n",
    "def createAddressBook():\n",
    "    while True:\n",
    "        name = input(\"Person's Name: \")\n",
    "        address = input(\"Person's Address: \")\n",
    "        city = input(\"Person's City: \")\n",
    "\n",
    "        storeDict(name, address, city)\n",
    "        addressBook.append(personInfo)\n",
    "\n",
    "        quit = input(\"Would you like to quit? (Y/N)\").lower()\n",
    "\n",
    "        if quit == 'y' or quit == 'yes':\n",
    "            print(addressBook)\n",
    "            break\n",
    "            \n",
    "createAddressBook()"
   ]
  },
  {
   "cell_type": "code",
   "execution_count": null,
   "metadata": {},
   "outputs": [
    {
     "name": "stdout",
     "output_type": "stream",
     "text": [
      "Person's Name: lucas\n",
      "Person's Address: 123\n",
      "Person's City: 123\n",
      "Would you like to quit? (Y/N)maybe\n",
      "\"maybe\" is not a valid option, please try again.\n"
     ]
    }
   ],
   "source": [
    "# Step 2\n",
    "addressBook = []\n",
    "\n",
    "# Step 1\n",
    "def storeUserInfo(name, address, city):\n",
    "    addressBook.append({\n",
    "        'name': name,\n",
    "        'address': address,\n",
    "        'city': city\n",
    "    })\n",
    "\n",
    "# Step 3\n",
    "def main():\n",
    "    applicationRunning = True\n",
    "    while applicationRunning:\n",
    "        # Step 4\n",
    "        name = input(\"Person's Name: \")\n",
    "        address = input(\"Person's Address: \")\n",
    "        city = input(\"Person's City: \")\n",
    "\n",
    "        # Step 6\n",
    "        storeUserInfo(name, address, city)\n",
    "\n",
    "        while True:\n",
    "            # Step 5\n",
    "            quit = input(\"Would you like to quit? (Y/N)\").lower()\n",
    "\n",
    "            if quit == 'y' or quit == 'yes':\n",
    "                # Step 5a\n",
    "                print(addressBook)\n",
    "                # Step 5b\n",
    "                applicationRunning = False\n",
    "                break\n",
    "\n",
    "            elif quit == 'n' or quit == 'no':\n",
    "                break\n",
    "\n",
    "            else:\n",
    "                print(f'\"{quit}\" is not a valid option, please try again.')\n",
    "                \n",
    "main()"
   ]
  },
  {
   "cell_type": "code",
   "execution_count": 3,
   "metadata": {},
   "outputs": [
    {
     "ename": "TypeError",
     "evalue": "storeUserInfo() missing 1 required positional argument: 'city'",
     "output_type": "error",
     "traceback": [
      "\u001b[1;31m---------------------------------------------------------------------------\u001b[0m",
      "\u001b[1;31mTypeError\u001b[0m                                 Traceback (most recent call last)",
      "Cell \u001b[1;32mIn [3], line 1\u001b[0m\n\u001b[1;32m----> 1\u001b[0m \u001b[43mstoreUserInfo\u001b[49m\u001b[43m(\u001b[49m\u001b[38;5;124;43m'\u001b[39;49m\u001b[38;5;124;43mDylan\u001b[39;49m\u001b[38;5;124;43m'\u001b[39;49m\u001b[43m,\u001b[49m\u001b[43m \u001b[49m\u001b[38;5;124;43m'\u001b[39;49m\u001b[38;5;124;43m555 Main St\u001b[39;49m\u001b[38;5;124;43m'\u001b[39;49m\u001b[43m)\u001b[49m\n",
      "\u001b[1;31mTypeError\u001b[0m: storeUserInfo() missing 1 required positional argument: 'city'"
     ]
    }
   ],
   "source": [
    "storeUserInfo('Dylan', '555 Main St')"
   ]
  },
  {
   "cell_type": "code",
   "execution_count": 8,
   "metadata": {},
   "outputs": [
    {
     "data": {
      "text/plain": [
       "{'Dylan': '555 Main St'}"
      ]
     },
     "execution_count": 8,
     "metadata": {},
     "output_type": "execute_result"
    }
   ],
   "source": [
    "addressBook"
   ]
  },
  {
   "cell_type": "markdown",
   "metadata": {},
   "source": [
    "## Set <br>\n",
    "<p>A Set is an unordered collection data type that is iterable (loop), mutable, and has no duplicate elements.<br>Major advantage is that it is highly optimized in checking if something is in the set, as opposed to checking if something is in a list.</p>"
   ]
  },
  {
   "cell_type": "code",
   "execution_count": null,
   "metadata": {},
   "outputs": [],
   "source": []
  },
  {
   "cell_type": "markdown",
   "metadata": {},
   "source": [
    "##### Declaring"
   ]
  },
  {
   "cell_type": "code",
   "execution_count": 7,
   "metadata": {},
   "outputs": [
    {
     "data": {
      "text/plain": [
       "{'Devon', 'Dylan', 'James', 'John', 'Lucas'}"
      ]
     },
     "execution_count": 7,
     "metadata": {},
     "output_type": "execute_result"
    }
   ],
   "source": [
    "# set() or {}\n",
    "# no order {3, 2, 1} outputs as {1, 2, 3}\n",
    "\n",
    "names = ['Lucas', 'Lucas', 'James', 'John', 'Dylan', 'Devon']\n",
    "\n",
    "set(names)"
   ]
  },
  {
   "cell_type": "code",
   "execution_count": 10,
   "metadata": {},
   "outputs": [
    {
     "data": {
      "text/plain": [
       "set"
      ]
     },
     "execution_count": 10,
     "metadata": {},
     "output_type": "execute_result"
    }
   ],
   "source": [
    "names = {'Lucas', 'Lucas', 'James', 'John', 'John', 'Dylan', 'Dylan'}\n",
    "type(names)"
   ]
  },
  {
   "cell_type": "markdown",
   "metadata": {},
   "source": [
    "##### .add()"
   ]
  },
  {
   "cell_type": "code",
   "execution_count": 11,
   "metadata": {},
   "outputs": [],
   "source": [
    "# set.add()\n",
    "\n",
    "names.add('Charles')"
   ]
  },
  {
   "cell_type": "code",
   "execution_count": 12,
   "metadata": {},
   "outputs": [
    {
     "data": {
      "text/plain": [
       "{'Charles', 'Dylan', 'James', 'John', 'Lucas'}"
      ]
     },
     "execution_count": 12,
     "metadata": {},
     "output_type": "execute_result"
    }
   ],
   "source": [
    "names"
   ]
  },
  {
   "cell_type": "markdown",
   "metadata": {},
   "source": [
    "##### .remove()"
   ]
  },
  {
   "cell_type": "code",
   "execution_count": 14,
   "metadata": {},
   "outputs": [],
   "source": [
    "# removes by value\n",
    "# set.remove()\n",
    "# nums.remove(56)\n",
    "\n",
    "names.remove('Dylan')"
   ]
  },
  {
   "cell_type": "code",
   "execution_count": 15,
   "metadata": {},
   "outputs": [
    {
     "data": {
      "text/plain": [
       "{'Charles', 'James', 'John', 'Lucas'}"
      ]
     },
     "execution_count": 15,
     "metadata": {},
     "output_type": "execute_result"
    }
   ],
   "source": [
    "names"
   ]
  },
  {
   "cell_type": "code",
   "execution_count": 2,
   "metadata": {},
   "outputs": [],
   "source": [
    "names_1 = {'Charles', 'Dylan', 'James', 'John', 'Lucas', 'Sarah'}\n",
    "names_2 = {'Hannah', 'Sarah', 'Jake', 'George', 'Dylan', 'Charles'}"
   ]
  },
  {
   "cell_type": "markdown",
   "metadata": {},
   "source": [
    "##### .union() "
   ]
  },
  {
   "cell_type": "code",
   "execution_count": 18,
   "metadata": {},
   "outputs": [
    {
     "data": {
      "text/plain": [
       "{'Charles',\n",
       " 'Dylan',\n",
       " 'George',\n",
       " 'Hannah',\n",
       " 'Jake',\n",
       " 'James',\n",
       " 'John',\n",
       " 'Lucas',\n",
       " 'Sarah'}"
      ]
     },
     "execution_count": 18,
     "metadata": {},
     "output_type": "execute_result"
    }
   ],
   "source": [
    "# Returns a union of two sets, can also use '|' or set.union(set)\n",
    "# joins all numbers, gets rid of duplicates\n",
    "\n",
    "names_1.union(names_2)"
   ]
  },
  {
   "cell_type": "code",
   "execution_count": 19,
   "metadata": {},
   "outputs": [
    {
     "data": {
      "text/plain": [
       "{'Charles',\n",
       " 'Dylan',\n",
       " 'George',\n",
       " 'Hannah',\n",
       " 'Jake',\n",
       " 'James',\n",
       " 'John',\n",
       " 'Lucas',\n",
       " 'Sarah'}"
      ]
     },
     "execution_count": 19,
     "metadata": {},
     "output_type": "execute_result"
    }
   ],
   "source": [
    "names_1 | names_2"
   ]
  },
  {
   "cell_type": "markdown",
   "metadata": {},
   "source": [
    "##### .intersection()"
   ]
  },
  {
   "cell_type": "code",
   "execution_count": 20,
   "metadata": {},
   "outputs": [
    {
     "data": {
      "text/plain": [
       "{'Charles', 'Dylan', 'Sarah'}"
      ]
     },
     "execution_count": 20,
     "metadata": {},
     "output_type": "execute_result"
    }
   ],
   "source": [
    "# Returns an intersection of two sets, can also use '&'\n",
    "# only takes similar elements from both sets\n",
    "\n",
    "names_1.intersection(names_2)"
   ]
  },
  {
   "cell_type": "code",
   "execution_count": 22,
   "metadata": {},
   "outputs": [
    {
     "data": {
      "text/plain": [
       "{'Charles', 'Dylan', 'Sarah'}"
      ]
     },
     "execution_count": 22,
     "metadata": {},
     "output_type": "execute_result"
    }
   ],
   "source": [
    "names_1 & names_2"
   ]
  },
  {
   "cell_type": "markdown",
   "metadata": {},
   "source": [
    "##### .difference()"
   ]
  },
  {
   "cell_type": "code",
   "execution_count": 3,
   "metadata": {},
   "outputs": [
    {
     "data": {
      "text/plain": [
       "{'James', 'John', 'Lucas'}"
      ]
     },
     "execution_count": 3,
     "metadata": {},
     "output_type": "execute_result"
    }
   ],
   "source": [
    "# Returns a set containing all the elements of invoking set that are not in the second set, can also use '-'\n",
    "# only takes values from the first set that are not in the second set\n",
    "# order matters\n",
    "\n",
    "names_1.difference(names_2)"
   ]
  },
  {
   "cell_type": "code",
   "execution_count": 4,
   "metadata": {},
   "outputs": [
    {
     "data": {
      "text/plain": [
       "{'George', 'Hannah', 'Jake'}"
      ]
     },
     "execution_count": 4,
     "metadata": {},
     "output_type": "execute_result"
    }
   ],
   "source": [
    "names_2.difference(names_1)"
   ]
  },
  {
   "cell_type": "code",
   "execution_count": 5,
   "metadata": {},
   "outputs": [
    {
     "data": {
      "text/plain": [
       "{'James', 'John', 'Lucas'}"
      ]
     },
     "execution_count": 5,
     "metadata": {},
     "output_type": "execute_result"
    }
   ],
   "source": [
    "names_1 - names_2"
   ]
  },
  {
   "cell_type": "markdown",
   "metadata": {},
   "source": [
    "##### .clear()"
   ]
  },
  {
   "cell_type": "code",
   "execution_count": 6,
   "metadata": {},
   "outputs": [
    {
     "name": "stdout",
     "output_type": "stream",
     "text": [
      "{'Dylan', 'James', 'Charles', 'Sarah', 'Lucas', 'John'}\n",
      "set()\n"
     ]
    }
   ],
   "source": [
    "# Empties the whole set\n",
    "# set.clear()\n",
    "print(names_1)\n",
    "names_1.clear()\n",
    "print(names_1)"
   ]
  },
  {
   "cell_type": "markdown",
   "metadata": {},
   "source": [
    "##### Frozenset <br>\n",
    "<p>Frozen sets are immutable objects that only support methods and operators that produce a result without affecting the frozen set or sets to which they are applied.</p><br><b>Unique & Immutable</b>"
   ]
  },
  {
   "cell_type": "code",
   "execution_count": 17,
   "metadata": {},
   "outputs": [],
   "source": [
    "# frozenset([])\n",
    "\n",
    "names = frozenset({'Lucas', 'Lucas', 'James', 'John', 'John', 'Dylan', 'Dylan'})"
   ]
  },
  {
   "cell_type": "code",
   "execution_count": 18,
   "metadata": {},
   "outputs": [
    {
     "ename": "AttributeError",
     "evalue": "'frozenset' object has no attribute 'add'",
     "output_type": "error",
     "traceback": [
      "\u001b[1;31m---------------------------------------------------------------------------\u001b[0m",
      "\u001b[1;31mAttributeError\u001b[0m                            Traceback (most recent call last)",
      "Cell \u001b[1;32mIn [18], line 1\u001b[0m\n\u001b[1;32m----> 1\u001b[0m \u001b[43mnames\u001b[49m\u001b[38;5;241;43m.\u001b[39;49m\u001b[43madd\u001b[49m(\u001b[38;5;124m'\u001b[39m\u001b[38;5;124mJake\u001b[39m\u001b[38;5;124m'\u001b[39m)\n\u001b[0;32m      2\u001b[0m \u001b[38;5;28mprint\u001b[39m(names)\n",
      "\u001b[1;31mAttributeError\u001b[0m: 'frozenset' object has no attribute 'add'"
     ]
    }
   ],
   "source": [
    "names.add('Jake')\n",
    "print(names)"
   ]
  },
  {
   "cell_type": "code",
   "execution_count": 19,
   "metadata": {},
   "outputs": [],
   "source": [
    "names = set(names)"
   ]
  },
  {
   "cell_type": "code",
   "execution_count": 20,
   "metadata": {},
   "outputs": [
    {
     "name": "stdout",
     "output_type": "stream",
     "text": [
      "{'Dylan', 'James', 'Lucas', 'John', 'Jake'}\n"
     ]
    }
   ],
   "source": [
    "names.add('Jake')\n",
    "print(names)"
   ]
  },
  {
   "cell_type": "markdown",
   "metadata": {},
   "source": [
    "## Modules"
   ]
  },
  {
   "cell_type": "markdown",
   "metadata": {},
   "source": [
    "##### Importing Entire Modules"
   ]
  },
  {
   "cell_type": "code",
   "execution_count": 24,
   "metadata": {},
   "outputs": [
    {
     "name": "stdout",
     "output_type": "stream",
     "text": [
      "3.141592653589793\n"
     ]
    }
   ],
   "source": [
    "# import or from 'xxx' import *\n",
    "import math\n",
    "\n",
    "math.factorial(5)\n",
    "\n",
    "print(math.pi)"
   ]
  },
  {
   "cell_type": "markdown",
   "metadata": {},
   "source": [
    "##### Importing Methods Only"
   ]
  },
  {
   "cell_type": "code",
   "execution_count": 26,
   "metadata": {},
   "outputs": [
    {
     "data": {
      "text/plain": [
       "24"
      ]
     },
     "execution_count": 26,
     "metadata": {},
     "output_type": "execute_result"
    }
   ],
   "source": [
    "# from 'xxx' import 'xxx'\n",
    "# from math import floor\n",
    "\n",
    "from math import factorial, floor\n",
    "factorial(4)"
   ]
  },
  {
   "cell_type": "markdown",
   "metadata": {},
   "source": [
    "##### Using the 'as' Keyword"
   ]
  },
  {
   "cell_type": "code",
   "execution_count": 33,
   "metadata": {},
   "outputs": [
    {
     "name": "stdout",
     "output_type": "stream",
     "text": [
      "HI\n",
      "120\n",
      "3.141592653589793\n"
     ]
    }
   ],
   "source": [
    "# from 'xxx' import 'xxx' as 'xxx' or import 'xxx' as 'xxx'\n",
    "# from math import floor as f\n",
    "\n",
    "from math import factorial as fact, pi as pie\n",
    "import numpy as np\n",
    "\n",
    "def factorial(x):\n",
    "    print('HI')\n",
    "    \n",
    "factorial(5)\n",
    "print(fact(5))\n",
    "print(pie)"
   ]
  },
  {
   "cell_type": "markdown",
   "metadata": {},
   "source": [
    "##### Creating a Module"
   ]
  },
  {
   "cell_type": "code",
   "execution_count": 4,
   "metadata": {},
   "outputs": [
    {
     "ename": "ModuleNotFoundError",
     "evalue": "No module named 'factorial'",
     "output_type": "error",
     "traceback": [
      "\u001b[1;31m---------------------------------------------------------------------------\u001b[0m",
      "\u001b[1;31mModuleNotFoundError\u001b[0m                       Traceback (most recent call last)",
      "Cell \u001b[1;32mIn [4], line 1\u001b[0m\n\u001b[1;32m----> 1\u001b[0m \u001b[38;5;28;01mfrom\u001b[39;00m \u001b[38;5;21;01mfactorial\u001b[39;00m \u001b[38;5;28;01mimport\u001b[39;00m \u001b[38;5;241m*\u001b[39m\n",
      "\u001b[1;31mModuleNotFoundError\u001b[0m: No module named 'factorial'"
     ]
    }
   ],
   "source": [
    "from factorial import *"
   ]
  },
  {
   "cell_type": "markdown",
   "metadata": {},
   "source": [
    "# Exercises"
   ]
  },
  {
   "cell_type": "markdown",
   "metadata": {},
   "source": [
    "### 1) Build a Shopping Cart <br>\n",
    "<p><b>You can use either lists or dictionaries. The program should have the following capabilities:</b><br><br>\n",
    "1) Takes in input <br>\n",
    "2) Stores user input into a dictionary or list <br>\n",
    "3) The User can add or delete items <br>\n",
    "4) The User can see current shopping list <br>\n",
    "5) The program Loops until user 'quits' <br>\n",
    "6) Upon quiting the program, print out all items in the user's list <br>\n",
    "</p>"
   ]
  },
  {
   "cell_type": "code",
   "execution_count": 1,
   "metadata": {},
   "outputs": [
    {
     "name": "stdout",
     "output_type": "stream",
     "text": [
      "\n",
      "What would you like to do? (Add Item/Remove Item/View Cart) add\n",
      "What item would you like to add to cart? durian\n",
      "How many/how much would you like to add to cart? 4\n",
      "Would you like to keep going? (Y/N) yeah\n",
      "\n",
      "What would you like to do? (Add Item/Remove Item/View Cart) add\n",
      "What item would you like to add to cart? banana\n",
      "How many/how much would you like to add to cart? 4\n",
      "Would you like to keep going? (Y/N) yeah\n",
      "\n",
      "What would you like to do? (Add Item/Remove Item/View Cart) view\n",
      "Here is your cart:\n",
      " {'durian': 4, 'banana': 4}\n",
      "Would you like to keep going? (Y/N) yeah\n",
      "\n",
      "What would you like to do? (Add Item/Remove Item/View Cart) remove\n",
      "What item you like to remove from cart? durian\n",
      "How many/how much would you like to remove from cart? 4\n",
      "Would you like to keep going? (Y/N) yeah\n",
      "\n",
      "What would you like to do? (Add Item/Remove Item/View Cart) cart\n",
      "Here is your cart:\n",
      " {'banana': 4}\n",
      "Would you like to keep going? (Y/N) yes\n",
      "\n",
      "What would you like to do? (Add Item/Remove Item/View Cart) add\n",
      "What item would you like to add to cart? flaming hot cheetos\n",
      "How many/how much would you like to add to cart? 2\n",
      "Would you like to keep going? (Y/N) YES\n",
      "\n",
      "What would you like to do? (Add Item/Remove Item/View Cart) add\n",
      "What item would you like to add to cart? flux capacitor\n",
      "How many/how much would you like to add to cart? 13\n",
      "Would you like to keep going? (Y/N) nah\n",
      "\n",
      "You are ready for check-out. Here is your final cart:\n",
      " {'banana': 4, 'flaming hot cheetos': 2, 'flux capacitor': 13}\n"
     ]
    }
   ],
   "source": [
    "from IPython.display import clear_output\n",
    "\n",
    "# Ask the user four bits of input: Do you want to : Show/Add/Delete or Quit?\n",
    "\n",
    "# cart = []\n",
    "\n",
    "# def addToCart(itemAdd):\n",
    "#     cart.append(itemAdd)\n",
    "\n",
    "# def removeFromCart(itemRemove):\n",
    "#     while itemRemove in cart:\n",
    "#         cart.remove(itemRemove)\n",
    "    \n",
    "# def groceries():\n",
    "#     applicationRunning = True\n",
    "#     while applicationRunning:\n",
    "#         action = input('\\nWhat would you like to do? (Add Item/Remove Item/View Cart) ').lower()\n",
    "        \n",
    "#         if action == 'view' or action == 'cart' or action == 'view cart':\n",
    "#             print(f'Here is your cart:\\n {cart}')\n",
    "            \n",
    "#         elif action == 'add' or action == 'add item' or action == 'add to cart':\n",
    "#             item = input('What item would you like to add to cart? ')\n",
    "#             addToCart(item)\n",
    "        \n",
    "#         elif action == 'remove' or action == 'remove item' or action == 'remove from cart':\n",
    "#             item = input('What item you like to remove from cart? ')\n",
    "#             removeFromCart(item)\n",
    "\n",
    "#         while True:\n",
    "#             quit = input('Would you like to keep going? (Y/N) ').lower()\n",
    "\n",
    "#             if quit == 'n' or quit == 'no' or quit == 'nah' or quit == 'na' or quit == 'nay':\n",
    "#                 print(f'\\nYou are ready for check-out. Here is your final cart:\\n {cart}')\n",
    "#                 applicationRunning = False\n",
    "#                 break\n",
    "\n",
    "#             elif quit == 'y' or quit == 'yes' or quit == 'yeah' or quit == 'yea' or quit == 'yah' or quit == 'ya':\n",
    "#                 break\n",
    "\n",
    "#             else:\n",
    "#                 print(f'\"{quit}\" is not a valid option, please try again.')\n",
    "                \n",
    "# groceries()\n",
    "\n",
    "\n",
    "\n",
    "# Attempt at a function that would allow managing quantity of items at the same time\n",
    "\n",
    "cart = {}\n",
    "\n",
    "def addToCart(ka, va):\n",
    "    if ka in cart.keys():\n",
    "        cart[ka] += va\n",
    "    else:\n",
    "        cart[ka] = va\n",
    "    \n",
    "def removeFromCart(kr, vr):\n",
    "    if kr not in cart.keys():\n",
    "        print(f'{kr} does not appear to be in the cart currently.')\n",
    "    else:\n",
    "        cart[kr] -= vr\n",
    "        if kr in cart and cart[kr] <= 0:\n",
    "            del cart[kr]\n",
    "     \n",
    "def groceries():\n",
    "    applicationRunning = True\n",
    "    while applicationRunning:\n",
    "        action = input('\\nWhat would you like to do? (Add Item/Remove Item/View Cart) ').lower()\n",
    "        \n",
    "        if action == 'view' or action == 'cart' or action == 'view cart':\n",
    "            print(f'Here is your cart:\\n {cart}')\n",
    "            \n",
    "        elif action == 'add' or action == 'add item' or action == 'add to cart':\n",
    "            itemAdd = input('What item would you like to add to cart? ').lower()\n",
    "            quantAdd = int(input('How many/how much would you like to add to cart? '))\n",
    "            addToCart(itemAdd, quantAdd)\n",
    "        \n",
    "        elif action == 'remove' or action == 'remove item' or action == 'remove from cart':\n",
    "            itemRem = input('What item you like to remove from cart? ').lower()\n",
    "            quantRem = int(input('How many/how much would you like to remove from cart? '))\n",
    "            removeFromCart(itemRem, quantRem)\n",
    "            \n",
    "        else:\n",
    "            print(f'\"{action}\" is not a valid option, please try again.')\n",
    "\n",
    "        while True:\n",
    "            quit = input('Would you like to keep going? (Y/N) ').lower()\n",
    "\n",
    "            if quit == 'n' or quit == 'no' or quit == 'nah' or quit == 'na' or quit == 'nay' or quit == 'negative':\n",
    "                print(f'\\nYou are ready for check-out. Here is your final cart:\\n {cart}')\n",
    "                applicationRunning = False\n",
    "                break\n",
    "\n",
    "            elif quit == 'y' or quit == 'yes' or quit == 'yeah' or quit == 'yea' or quit == 'yah' or quit == 'ye' or quit == 'ya' or quit == 'affirmative':\n",
    "                break\n",
    "\n",
    "            else:\n",
    "                print(f'\"{quit}\" is not a valid option, please try again.')\n",
    "                \n",
    "groceries()"
   ]
  },
  {
   "cell_type": "markdown",
   "metadata": {},
   "source": [
    "### 2) Create a Module in VS Code and Import It into jupyter notebook <br>\n",
    "<p><b>Module should have the following capabilities:</b><br><br>\n",
    "1) Has a function to calculate the square footage of a house <br>\n",
    "    <b>Reminder of Formula: Length X Width == Area<br>\n",
    "        <hr>\n",
    "2) Has a function to calculate the circumference of a circle <br><br>\n",
    "<b>Program in Jupyter Notebook should take in user input and use imported functions to calculate a circle's circumference or a houses square footage</b>\n",
    "</p>"
   ]
  },
  {
   "cell_type": "code",
   "execution_count": 3,
   "metadata": {},
   "outputs": [],
   "source": [
    "from custom import *"
   ]
  },
  {
   "cell_type": "code",
   "execution_count": 2,
   "metadata": {},
   "outputs": [
    {
     "name": "stdout",
     "output_type": "stream",
     "text": [
      "Length of house in feet? 10\n",
      "Width of house in feet? 25\n",
      "The area of the house is 250 sq ft.\n"
     ]
    },
    {
     "data": {
      "text/plain": [
       "250"
      ]
     },
     "execution_count": 2,
     "metadata": {},
     "output_type": "execute_result"
    }
   ],
   "source": [
    "houseArea()"
   ]
  },
  {
   "cell_type": "code",
   "execution_count": 3,
   "metadata": {},
   "outputs": [
    {
     "name": "stdout",
     "output_type": "stream",
     "text": [
      "Radius of the circle? 5\n",
      "Circumfrence of the circle is 31.41592653589793 \n",
      "and area of the circle is 78.53981633974483.\n"
     ]
    },
    {
     "data": {
      "text/plain": [
       "(31.41592653589793, 78.53981633974483)"
      ]
     },
     "execution_count": 3,
     "metadata": {},
     "output_type": "execute_result"
    }
   ],
   "source": [
    "circle()"
   ]
  },
  {
   "cell_type": "code",
   "execution_count": 4,
   "metadata": {},
   "outputs": [
    {
     "data": {
      "text/plain": [
       "3.141592653589793"
      ]
     },
     "execution_count": 4,
     "metadata": {},
     "output_type": "execute_result"
    }
   ],
   "source": [
    "pi"
   ]
  },
  {
   "cell_type": "code",
   "execution_count": null,
   "metadata": {},
   "outputs": [],
   "source": []
  }
 ],
 "metadata": {
  "kernelspec": {
   "display_name": "Python 3 (ipykernel)",
   "language": "python",
   "name": "python3"
  },
  "language_info": {
   "codemirror_mode": {
    "name": "ipython",
    "version": 3
   },
   "file_extension": ".py",
   "mimetype": "text/x-python",
   "name": "python",
   "nbconvert_exporter": "python",
   "pygments_lexer": "ipython3",
   "version": "3.10.8"
  }
 },
 "nbformat": 4,
 "nbformat_minor": 2
}
